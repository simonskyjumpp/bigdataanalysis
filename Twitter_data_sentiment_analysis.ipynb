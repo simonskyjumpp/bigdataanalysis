{
  "nbformat": 4,
  "nbformat_minor": 0,
  "metadata": {
    "colab": {
      "provenance": [],
      "authorship_tag": "ABX9TyPaFGBVkwMlBVGb9uu0RxsK",
      "include_colab_link": true
    },
    "kernelspec": {
      "name": "python3",
      "display_name": "Python 3"
    },
    "language_info": {
      "name": "python"
    }
  },
  "cells": [
    {
      "cell_type": "markdown",
      "metadata": {
        "id": "view-in-github",
        "colab_type": "text"
      },
      "source": [
        "<a href=\"https://colab.research.google.com/github/simonskyjumpp/bigdataanalysis/blob/main/Twitter_data_sentiment_analysis.ipynb\" target=\"_parent\"><img src=\"https://colab.research.google.com/assets/colab-badge.svg\" alt=\"Open In Colab\"/></a>"
      ]
    },
    {
      "cell_type": "code",
      "execution_count": null,
      "metadata": {
        "id": "cH8I98Jvibdd"
      },
      "outputs": [],
      "source": [
        "!pip install -q kaggle"
      ]
    },
    {
      "cell_type": "code",
      "source": [
        "!mkdir -p ~/.kaggle"
      ],
      "metadata": {
        "id": "L_spDtZAii0L"
      },
      "execution_count": null,
      "outputs": []
    },
    {
      "cell_type": "code",
      "source": [
        "!cp kaggle.json ~/.kaggle/"
      ],
      "metadata": {
        "colab": {
          "base_uri": "https://localhost:8080/"
        },
        "id": "EDZMauSdik_Z",
        "outputId": "7258ed67-7349-425a-b64c-9a42ebf2a734"
      },
      "execution_count": null,
      "outputs": [
        {
          "output_type": "stream",
          "name": "stdout",
          "text": [
            "cp: cannot stat 'kaggle.json': No such file or directory\n"
          ]
        }
      ]
    },
    {
      "cell_type": "code",
      "source": [
        "!chmod 600 ~/.kaggle/kaggle.json"
      ],
      "metadata": {
        "colab": {
          "base_uri": "https://localhost:8080/"
        },
        "id": "vyR7AEwyioQi",
        "outputId": "2fd10738-1d48-4fd8-d023-43f78caac1ca"
      },
      "execution_count": null,
      "outputs": [
        {
          "output_type": "stream",
          "name": "stdout",
          "text": [
            "chmod: cannot access '/root/.kaggle/kaggle.json': No such file or directory\n"
          ]
        }
      ]
    },
    {
      "cell_type": "code",
      "source": [
        "!pip install -q kagglehub"
      ],
      "metadata": {
        "id": "Pna8_x6mirUk"
      },
      "execution_count": null,
      "outputs": []
    },
    {
      "cell_type": "code",
      "source": [
        "import kagglehub\n",
        "\n",
        "# Download latest version\n",
        "path = kagglehub.dataset_download(\"cosmos98/twitter-and-reddit-sentimental-analysis-dataset\")\n",
        "print(\"Path to dataset files:\", path)"
      ],
      "metadata": {
        "colab": {
          "base_uri": "https://localhost:8080/"
        },
        "id": "ZfGgMPf_it56",
        "outputId": "51ed60d0-c3b9-434f-9452-aeee961a2f25"
      },
      "execution_count": null,
      "outputs": [
        {
          "output_type": "stream",
          "name": "stdout",
          "text": [
            "Downloading from https://www.kaggle.com/api/v1/datasets/download/cosmos98/twitter-and-reddit-sentimental-analysis-dataset?dataset_version_number=1...\n"
          ]
        },
        {
          "output_type": "stream",
          "name": "stderr",
          "text": [
            "100%|██████████| 10.0M/10.0M [00:00<00:00, 55.2MB/s]"
          ]
        },
        {
          "output_type": "stream",
          "name": "stdout",
          "text": [
            "Extracting files...\n"
          ]
        },
        {
          "output_type": "stream",
          "name": "stderr",
          "text": [
            "\n"
          ]
        },
        {
          "output_type": "stream",
          "name": "stdout",
          "text": [
            "Path to dataset files: /root/.cache/kagglehub/datasets/cosmos98/twitter-and-reddit-sentimental-analysis-dataset/versions/1\n"
          ]
        }
      ]
    },
    {
      "cell_type": "code",
      "source": [
        "!pip install -q pyspark"
      ],
      "metadata": {
        "id": "qXnOoSbpjTqD"
      },
      "execution_count": null,
      "outputs": []
    },
    {
      "cell_type": "code",
      "source": [
        "from pyspark.sql import SparkSession\n",
        "# Start Spark Session\n",
        "spark = SparkSession.builder.appName(\"SentimentAnalysis\").getOrCreate()"
      ],
      "metadata": {
        "id": "rG11yOFgjgMZ"
      },
      "execution_count": null,
      "outputs": []
    },
    {
      "cell_type": "code",
      "source": [
        "# Create the sample DataFrame\n",
        "df = spark.read.csv(f\"{path}/\", header=True, inferSchema=True)\n",
        "df.show(5)  # Show the first 5 rows\n",
        "df.printSchema() # Print the schema (column names and data types)"
      ],
      "metadata": {
        "colab": {
          "base_uri": "https://localhost:8080/"
        },
        "id": "5klIY31-j2HZ",
        "outputId": "19a22442-cdb5-43c2-ec28-86264fa83649"
      },
      "execution_count": null,
      "outputs": [
        {
          "output_type": "stream",
          "name": "stdout",
          "text": [
            "+--------------------+--------+\n",
            "|          clean_text|category|\n",
            "+--------------------+--------+\n",
            "|when modi promise...|      -1|\n",
            "|talk all the nons...|       0|\n",
            "|what did just say...|       1|\n",
            "|asking his suppor...|       1|\n",
            "|answer who among ...|       1|\n",
            "+--------------------+--------+\n",
            "only showing top 5 rows\n",
            "\n",
            "root\n",
            " |-- clean_text: string (nullable = true)\n",
            " |-- category: string (nullable = true)\n",
            "\n"
          ]
        }
      ]
    },
    {
      "cell_type": "code",
      "source": [
        "from pyspark.ml.feature import StringIndexer\n",
        "from pyspark.ml.classification import LogisticRegression\n",
        "from pyspark.ml.feature import VectorAssembler\n",
        "from pyspark.sql.functions import length\n",
        "from pyspark.ml.feature import Imputer\n"
      ],
      "metadata": {
        "id": "Y5k1mDG8k8EO"
      },
      "execution_count": null,
      "outputs": []
    },
    {
      "cell_type": "code",
      "source": [
        "if 'sentiment' in df.columns:\n",
        "    df = df.na.drop(subset=['clean_text', 'category'])"
      ],
      "metadata": {
        "id": "t_jcFKACmS1d"
      },
      "execution_count": null,
      "outputs": []
    },
    {
      "cell_type": "code",
      "source": [
        "# Index the 'category' column\n",
        "indexer = StringIndexer(inputCol=\"category\", outputCol=\"label\", handleInvalid=\"skip\" )\n",
        "indexed_df = indexer.fit(df).transform(df)\n",
        "indexed_df = indexed_df.withColumn(\"text_length\", length(indexed_df[\"clean_text\"]))"
      ],
      "metadata": {
        "id": "axsDWIKZmXQg"
      },
      "execution_count": null,
      "outputs": []
    },
    {
      "cell_type": "code",
      "source": [
        "imputer = Imputer(\n",
        "    inputCols=[\"text_length\"],\n",
        "    outputCols=[\"text_length_imputed\"]\n",
        ").setStrategy(\"mean\")"
      ],
      "metadata": {
        "id": "Uc-jMGBvpPeR"
      },
      "execution_count": null,
      "outputs": []
    },
    {
      "cell_type": "code",
      "source": [
        "indexed_df = imputer.fit(indexed_df).transform(indexed_df)"
      ],
      "metadata": {
        "id": "zaNB-HGcpZF8"
      },
      "execution_count": null,
      "outputs": []
    },
    {
      "cell_type": "code",
      "source": [
        "# Create the features vector\n",
        "assembler = VectorAssembler(inputCols=[\"text_length_imputed\"], outputCol=\"features\")\n",
        "df_with_features = assembler.transform(indexed_df)"
      ],
      "metadata": {
        "id": "VqYzolf2mnyo"
      },
      "execution_count": null,
      "outputs": []
    },
    {
      "cell_type": "code",
      "source": [
        "# Train a Logistic Regression model\n",
        "lr = LogisticRegression(featuresCol=\"features\", labelCol=\"label\")\n",
        "model = lr.fit(df_with_features)"
      ],
      "metadata": {
        "id": "RLqyr4yPoOGI"
      },
      "execution_count": null,
      "outputs": []
    },
    {
      "cell_type": "code",
      "source": [
        "# Make predictions\n",
        "predictions = model.transform(df_with_features)\n",
        "# Show some predictions\n",
        "predictions.select(\"clean_text\", \"category\", \"label\", \"prediction\").show(50, truncate=False)"
      ],
      "metadata": {
        "colab": {
          "base_uri": "https://localhost:8080/"
        },
        "id": "RXFjc_KQppds",
        "outputId": "f6a892ba-1384-468e-b4e7-d9123de85850"
      },
      "execution_count": null,
      "outputs": [
        {
          "output_type": "stream",
          "name": "stdout",
          "text": [
            "+--------------------------------------------------------------------------------------------------------------------------------------------------------------------------------------------------------------------------------------------+--------+-----+----------+\n",
            "|clean_text                                                                                                                                                                                                                                  |category|label|prediction|\n",
            "+--------------------------------------------------------------------------------------------------------------------------------------------------------------------------------------------------------------------------------------------+--------+-----+----------+\n",
            "|when modi promised “minimum government maximum governance” expected him begin the difficult job reforming the state why does take years get justice state should and not business and should exit psus and temples                          |-1      |2.0  |0.0       |\n",
            "|talk all the nonsense and continue all the drama will vote for modi                                                                                                                                                                         |0       |1.0  |1.0       |\n",
            "|what did just say vote for modi  welcome bjp told you rahul the main campaigner for modi think modi should just relax                                                                                                                       |1       |0.0  |0.0       |\n",
            "|asking his supporters prefix chowkidar their names modi did great service now there confusion what read what not now crustal clear what will crass filthy nonsensical see how most abuses are coming from chowkidars                        |1       |0.0  |0.0       |\n",
            "|answer who among these the most powerful world leader today trump putin modi may                                                                                                                                                            |1       |0.0  |1.0       |\n",
            "|kiya tho refresh maarkefir comment karo                                                                                                                                                                                                     |0       |1.0  |1.0       |\n",
            "|this comes from cabinet which has scholars like modi smriti and hema time introspect                                                                                                                                                        |0       |1.0  |0.0       |\n",
            "|with upcoming election india saga going important pair look current modi leads govt elected with deal brexit combination this weekly looks juicy bears imho                                                                                 |1       |0.0  |0.0       |\n",
            "|gandhi was gay does modi                                                                                                                                                                                                                    |1       |0.0  |1.0       |\n",
            "|things like demonetisation gst goods and services tax…the upper castes would sort either view favourably say that need give this more time other castes like dalits the muslims were more against because that’ just not modi’ constituency2|1       |0.0  |0.0       |\n",
            "|hope tuthukudi people would prefer honest well behaved nationalist courageous likly minister modi cabinet vote benifit thuthukudi                                                                                                           |1       |0.0  |0.0       |\n",
            "|calm waters wheres the modi wave                                                                                                                                                                                                            |1       |0.0  |1.0       |\n",
            "|one vote can make all the difference anil kapoor answers modis election 2019 clarion call extends support his vote kar campaign                                                                                                             |0       |1.0  |0.0       |\n",
            "|one vote can make all the difference anil kapoor answers modis election 2019 clarion call extends support his campaign                                                                                                                      |0       |1.0  |0.0       |\n",
            "|vote such party and leadershipwho can take fast and firm action none other than narendra damodardas modi and bjp party                                                                                                                      |-1      |2.0  |0.0       |\n",
            "|vote modi who has not created jobs                                                                                                                                                                                                          |0       |1.0  |1.0       |\n",
            "|through our vote ensure govt need and deserve anupam kher responds modis appeal for the 2019 elections                                                                                                                                      |0       |1.0  |0.0       |\n",
            "|didn’ write chowkidar does mean ’ anti modi try visit the plz not all who haven’ used are anti                                                                                                                                              |-1      |2.0  |0.0       |\n",
            "|was the one who recently said that people who vote against modi are anti national that put gen hooda all congress supporters and those jawans who not support modi anti national what great things did you hear about him                   |1       |0.0  |0.0       |\n",
            "|with firm belief the leadership shri narendra modi bjp entering into politics given form file nomination for the khammam parliamentary seat proceeding khammam today                                                                        |-1      |2.0  |0.0       |\n",
            "|crush jaws those who shoutmodimodi says jds mla this inciting murder                                                                                                                                                                        |0       |1.0  |1.0       |\n",
            "|sultanpur uttar pradesh loksabha candidate select pawan kumar pandey actually public want given vote modi but your current condidate not popular district your candidate bsp candidate sonbhadra singh                                      |-1      |2.0  |0.0       |\n",
            "|thiugh nehru not alive but still alive heart modi for every failure nehru responsible                                                                                                                                                       |-1      |2.0  |0.0       |\n",
            "|development has become mass movement under modi govt with economic social and political empowerment life one and all has witnessed positive paradigm shift this new india\"                                                                  |1       |0.0  |0.0       |\n",
            "|has already taken notice and ordered probe now time for modi take notice muslim family being harassed beaten recently extremist hindus and was suggested leave india move pakistan                                                          |0       |1.0  |0.0       |\n",
            "|was waiting for this modi will also talk about varanasi                                                                                                                                                                                     |0       |1.0  |1.0       |\n",
            "|according yogi imran masood kin azhar masood according this logic nirav modi lalit modi and narendra modi are brothers from the same mother                                                                                                 |0       |1.0  |0.0       |\n",
            "|agree but only during the tenure modiganga rejuvenation works have started working                                                                                                                                                          |0       |1.0  |1.0       |\n",
            "|the three codes modi cracked give india huge foreign policy jumpstart via                                                                                                                                                                   |1       |0.0  |1.0       |\n",
            "|through our vote ensure govt need and deserve anupam kher responds modis vote kar appeal for the 2019 elections                                                                                                                             |0       |1.0  |0.0       |\n",
            "|this the future india deserves \"                                                                                                                                                                                                            |-1      |2.0  |1.0       |\n",
            "|being born religion where female deities worshipped its misogynistic sadistic tradition and totally against point isits man made tradition and not written one not religious lunatic support own religion its repressive                    |1       |0.0  |0.0       |\n",
            "|how such people are being made amazedn fear that frustation him may not result vote against sir waste ministerdisgrace entire modi cabinet                                                                                                  |-1      |2.0  |0.0       |\n",
            "|only modi                                                                                                                                                                                                                                   |0       |1.0  |1.0       |\n",
            "|check out latest article premier archery league via                                                                                                                                                                                         |1       |0.0  |1.0       |\n",
            "|india second most optimistic globally about executive job growth shows the survey indias senior executives said that they are optimistic about the growth the number job roles this year                                                    |1       |0.0  |0.0       |\n",
            "|people wish your vision india and least interested about your personal enmity with modi others its your personal problem handle this personally and dont expect nation will join your dirty fight with others tell why vote                 |-1      |2.0  |0.0       |\n",
            "|modi for eternal what wrong dear sirji perfectly fine with indian people                                                                                                                                                                    |-1      |2.0  |1.0       |\n",
            "|impressive godrej tata complimenting our hoping gets second term                                                                                                                                                                            |1       |0.0  |1.0       |\n",
            "|our maid saying this rahul keeps saying modi kalla yet goes and hugs him and winks magand idu bekagittu                                                                                                                                     |0       |1.0  |0.0       |\n",
            "|please vote for modi congress trying divide india                                                                                                                                                                                           |0       |1.0  |1.0       |\n",
            "|yes good job highly insensitivearrogant incompetent ploar needs defeated any costnobody knows why made such arrogant person minister gave tickethe out touch with grounddespite 3months upsc protests nvr met                               |1       |0.0  |0.0       |\n",
            "|before 2014 hindustan has seen the worst for hindus own maj hindu rashtra who thrashed the rascal faces these anti indian politiciansantinationals urban naxals wait watch after modis win pakistan mein bhi hindu hona garv baat hogi✌     |1       |0.0  |0.0       |\n",
            "|higher voting turnout directly proportional bjp victory wonder modi has launched campaigns like dont sit home ensure everyone your friends family relatives votes its now never for                                                         |1       |0.0  |0.0       |\n",
            "|via namo app\"                                                                                                                                                                                                                               |1       |0.0  |1.0       |\n",
            "|use this beg for campaign                                                                                                                                                                                                                   |0       |1.0  |1.0       |\n",
            "|with welfare delivery gst ibc and feo place modi can exit psus 2nd term and use that money appoint more judges police forensic labs and fasttrack delivery justice education and healthcare citizens and invest defence india well          |1       |0.0  |0.0       |\n",
            "|this the new india modi trying build with these leaders his party why have live with these deplorable characters                                                                                                                            |-1      |2.0  |0.0       |\n",
            "|not just healing touch india need surgery remove the cancer spread modi and rss                                                                                                                                                             |0       |1.0  |1.0       |\n",
            "|farmers’ welfare about 474 farmers get second installment from next month the centre announced the 75000crore scheme                                                                                                                        |0       |1.0  |0.0       |\n",
            "+--------------------------------------------------------------------------------------------------------------------------------------------------------------------------------------------------------------------------------------------+--------+-----+----------+\n",
            "only showing top 50 rows\n",
            "\n"
          ]
        }
      ]
    },
    {
      "cell_type": "code",
      "source": [
        "# Stop Spark session\n",
        "spark.stop()"
      ],
      "metadata": {
        "id": "UtPY_-sDuJDB"
      },
      "execution_count": null,
      "outputs": []
    }
  ]
}