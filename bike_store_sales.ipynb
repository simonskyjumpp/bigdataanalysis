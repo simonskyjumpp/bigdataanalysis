{
  "nbformat": 4,
  "nbformat_minor": 0,
  "metadata": {
    "colab": {
      "provenance": [],
      "authorship_tag": "ABX9TyMtmtf9p7zP0nKAYd8aIsKL",
      "include_colab_link": true
    },
    "kernelspec": {
      "name": "python3",
      "display_name": "Python 3"
    },
    "language_info": {
      "name": "python"
    }
  },
  "cells": [
    {
      "cell_type": "markdown",
      "metadata": {
        "id": "view-in-github",
        "colab_type": "text"
      },
      "source": [
        "<a href=\"https://colab.research.google.com/github/simonskyjumpp/bigdataanalysis/blob/main/bike_store_sales.ipynb\" target=\"_parent\"><img src=\"https://colab.research.google.com/assets/colab-badge.svg\" alt=\"Open In Colab\"/></a>"
      ]
    },
    {
      "cell_type": "code",
      "execution_count": null,
      "metadata": {
        "colab": {
          "base_uri": "https://localhost:8080/",
          "height": 73
        },
        "id": "iHnbrJyL4K1O",
        "outputId": "672bf3a7-4413-412a-b35a-28e3a97c625b"
      },
      "outputs": [
        {
          "output_type": "display_data",
          "data": {
            "text/plain": [
              "<IPython.core.display.HTML object>"
            ],
            "text/html": [
              "\n",
              "     <input type=\"file\" id=\"files-30cfa31c-04d6-4c58-9292-9f3af8006a23\" name=\"files[]\" multiple disabled\n",
              "        style=\"border:none\" />\n",
              "     <output id=\"result-30cfa31c-04d6-4c58-9292-9f3af8006a23\">\n",
              "      Upload widget is only available when the cell has been executed in the\n",
              "      current browser session. Please rerun this cell to enable.\n",
              "      </output>\n",
              "      <script>// Copyright 2017 Google LLC\n",
              "//\n",
              "// Licensed under the Apache License, Version 2.0 (the \"License\");\n",
              "// you may not use this file except in compliance with the License.\n",
              "// You may obtain a copy of the License at\n",
              "//\n",
              "//      http://www.apache.org/licenses/LICENSE-2.0\n",
              "//\n",
              "// Unless required by applicable law or agreed to in writing, software\n",
              "// distributed under the License is distributed on an \"AS IS\" BASIS,\n",
              "// WITHOUT WARRANTIES OR CONDITIONS OF ANY KIND, either express or implied.\n",
              "// See the License for the specific language governing permissions and\n",
              "// limitations under the License.\n",
              "\n",
              "/**\n",
              " * @fileoverview Helpers for google.colab Python module.\n",
              " */\n",
              "(function(scope) {\n",
              "function span(text, styleAttributes = {}) {\n",
              "  const element = document.createElement('span');\n",
              "  element.textContent = text;\n",
              "  for (const key of Object.keys(styleAttributes)) {\n",
              "    element.style[key] = styleAttributes[key];\n",
              "  }\n",
              "  return element;\n",
              "}\n",
              "\n",
              "// Max number of bytes which will be uploaded at a time.\n",
              "const MAX_PAYLOAD_SIZE = 100 * 1024;\n",
              "\n",
              "function _uploadFiles(inputId, outputId) {\n",
              "  const steps = uploadFilesStep(inputId, outputId);\n",
              "  const outputElement = document.getElementById(outputId);\n",
              "  // Cache steps on the outputElement to make it available for the next call\n",
              "  // to uploadFilesContinue from Python.\n",
              "  outputElement.steps = steps;\n",
              "\n",
              "  return _uploadFilesContinue(outputId);\n",
              "}\n",
              "\n",
              "// This is roughly an async generator (not supported in the browser yet),\n",
              "// where there are multiple asynchronous steps and the Python side is going\n",
              "// to poll for completion of each step.\n",
              "// This uses a Promise to block the python side on completion of each step,\n",
              "// then passes the result of the previous step as the input to the next step.\n",
              "function _uploadFilesContinue(outputId) {\n",
              "  const outputElement = document.getElementById(outputId);\n",
              "  const steps = outputElement.steps;\n",
              "\n",
              "  const next = steps.next(outputElement.lastPromiseValue);\n",
              "  return Promise.resolve(next.value.promise).then((value) => {\n",
              "    // Cache the last promise value to make it available to the next\n",
              "    // step of the generator.\n",
              "    outputElement.lastPromiseValue = value;\n",
              "    return next.value.response;\n",
              "  });\n",
              "}\n",
              "\n",
              "/**\n",
              " * Generator function which is called between each async step of the upload\n",
              " * process.\n",
              " * @param {string} inputId Element ID of the input file picker element.\n",
              " * @param {string} outputId Element ID of the output display.\n",
              " * @return {!Iterable<!Object>} Iterable of next steps.\n",
              " */\n",
              "function* uploadFilesStep(inputId, outputId) {\n",
              "  const inputElement = document.getElementById(inputId);\n",
              "  inputElement.disabled = false;\n",
              "\n",
              "  const outputElement = document.getElementById(outputId);\n",
              "  outputElement.innerHTML = '';\n",
              "\n",
              "  const pickedPromise = new Promise((resolve) => {\n",
              "    inputElement.addEventListener('change', (e) => {\n",
              "      resolve(e.target.files);\n",
              "    });\n",
              "  });\n",
              "\n",
              "  const cancel = document.createElement('button');\n",
              "  inputElement.parentElement.appendChild(cancel);\n",
              "  cancel.textContent = 'Cancel upload';\n",
              "  const cancelPromise = new Promise((resolve) => {\n",
              "    cancel.onclick = () => {\n",
              "      resolve(null);\n",
              "    };\n",
              "  });\n",
              "\n",
              "  // Wait for the user to pick the files.\n",
              "  const files = yield {\n",
              "    promise: Promise.race([pickedPromise, cancelPromise]),\n",
              "    response: {\n",
              "      action: 'starting',\n",
              "    }\n",
              "  };\n",
              "\n",
              "  cancel.remove();\n",
              "\n",
              "  // Disable the input element since further picks are not allowed.\n",
              "  inputElement.disabled = true;\n",
              "\n",
              "  if (!files) {\n",
              "    return {\n",
              "      response: {\n",
              "        action: 'complete',\n",
              "      }\n",
              "    };\n",
              "  }\n",
              "\n",
              "  for (const file of files) {\n",
              "    const li = document.createElement('li');\n",
              "    li.append(span(file.name, {fontWeight: 'bold'}));\n",
              "    li.append(span(\n",
              "        `(${file.type || 'n/a'}) - ${file.size} bytes, ` +\n",
              "        `last modified: ${\n",
              "            file.lastModifiedDate ? file.lastModifiedDate.toLocaleDateString() :\n",
              "                                    'n/a'} - `));\n",
              "    const percent = span('0% done');\n",
              "    li.appendChild(percent);\n",
              "\n",
              "    outputElement.appendChild(li);\n",
              "\n",
              "    const fileDataPromise = new Promise((resolve) => {\n",
              "      const reader = new FileReader();\n",
              "      reader.onload = (e) => {\n",
              "        resolve(e.target.result);\n",
              "      };\n",
              "      reader.readAsArrayBuffer(file);\n",
              "    });\n",
              "    // Wait for the data to be ready.\n",
              "    let fileData = yield {\n",
              "      promise: fileDataPromise,\n",
              "      response: {\n",
              "        action: 'continue',\n",
              "      }\n",
              "    };\n",
              "\n",
              "    // Use a chunked sending to avoid message size limits. See b/62115660.\n",
              "    let position = 0;\n",
              "    do {\n",
              "      const length = Math.min(fileData.byteLength - position, MAX_PAYLOAD_SIZE);\n",
              "      const chunk = new Uint8Array(fileData, position, length);\n",
              "      position += length;\n",
              "\n",
              "      const base64 = btoa(String.fromCharCode.apply(null, chunk));\n",
              "      yield {\n",
              "        response: {\n",
              "          action: 'append',\n",
              "          file: file.name,\n",
              "          data: base64,\n",
              "        },\n",
              "      };\n",
              "\n",
              "      let percentDone = fileData.byteLength === 0 ?\n",
              "          100 :\n",
              "          Math.round((position / fileData.byteLength) * 100);\n",
              "      percent.textContent = `${percentDone}% done`;\n",
              "\n",
              "    } while (position < fileData.byteLength);\n",
              "  }\n",
              "\n",
              "  // All done.\n",
              "  yield {\n",
              "    response: {\n",
              "      action: 'complete',\n",
              "    }\n",
              "  };\n",
              "}\n",
              "\n",
              "scope.google = scope.google || {};\n",
              "scope.google.colab = scope.google.colab || {};\n",
              "scope.google.colab._files = {\n",
              "  _uploadFiles,\n",
              "  _uploadFilesContinue,\n",
              "};\n",
              "})(self);\n",
              "</script> "
            ]
          },
          "metadata": {}
        },
        {
          "output_type": "stream",
          "name": "stdout",
          "text": [
            "Saving bike_store_database.xlsx to bike_store_database.xlsx\n"
          ]
        }
      ],
      "source": [
        "from google.colab import files\n",
        "\n",
        "uploaded = files.upload()"
      ]
    },
    {
      "cell_type": "code",
      "source": [
        "import pandas as pd\n",
        "\n",
        "file_name = \"bike_store_database.xlsx\""
      ],
      "metadata": {
        "id": "Dhj4F9LL9J48"
      },
      "execution_count": null,
      "outputs": []
    },
    {
      "cell_type": "code",
      "source": [
        "dfs = pd.read_excel(file_name, sheet_name=None)"
      ],
      "metadata": {
        "id": "80gmxYSF9N24"
      },
      "execution_count": null,
      "outputs": []
    },
    {
      "cell_type": "code",
      "source": [
        "print(\"Sheets in the file:\", dfs.keys())"
      ],
      "metadata": {
        "colab": {
          "base_uri": "https://localhost:8080/"
        },
        "id": "L3mG2RR39Rv0",
        "outputId": "b977e617-9361-4005-cd2d-e525d0e1b30a"
      },
      "execution_count": null,
      "outputs": [
        {
          "output_type": "stream",
          "name": "stdout",
          "text": [
            "Sheets in the file: dict_keys(['brands', 'orders', 'products', 'staffs', 'stocks', 'stores', 'customers', 'order_items', 'categories'])\n"
          ]
        }
      ]
    },
    {
      "cell_type": "code",
      "source": [
        "import sqlite3"
      ],
      "metadata": {
        "id": "hhKElONf9TpA"
      },
      "execution_count": null,
      "outputs": []
    },
    {
      "cell_type": "code",
      "source": [
        "conn = sqlite3.connect(\"file_name\")"
      ],
      "metadata": {
        "id": "Vd640D3e9XxU"
      },
      "execution_count": null,
      "outputs": []
    },
    {
      "cell_type": "code",
      "source": [
        "for sheet, df in dfs.items():\n",
        "    df.to_sql(sheet, conn, index=False, if_exists=\"replace\")"
      ],
      "metadata": {
        "id": "UNrmaaUJ9Yj1"
      },
      "execution_count": null,
      "outputs": []
    },
    {
      "cell_type": "code",
      "source": [
        "print(\"Database created with tables:\", dfs.keys())"
      ],
      "metadata": {
        "colab": {
          "base_uri": "https://localhost:8080/"
        },
        "id": "JhsRiqM99is7",
        "outputId": "c93d4e5f-5f78-48c5-a34b-a6a3e32885f7"
      },
      "execution_count": null,
      "outputs": [
        {
          "output_type": "stream",
          "name": "stdout",
          "text": [
            "Database created with tables: dict_keys(['brands', 'orders', 'products', 'staffs', 'stocks', 'stores', 'customers', 'order_items', 'categories'])\n"
          ]
        }
      ]
    },
    {
      "cell_type": "code",
      "source": [
        "query = \"SELECT * FROM orders LIMIT 5;\"\n",
        "\n",
        "df_sql = pd.read_sql(query, conn)\n",
        "print(df_sql)"
      ],
      "metadata": {
        "colab": {
          "base_uri": "https://localhost:8080/"
        },
        "id": "3DmNhDTn9qJq",
        "outputId": "46297daa-d38a-4bdb-8be2-225c1f84617e"
      },
      "execution_count": null,
      "outputs": [
        {
          "output_type": "stream",
          "name": "stdout",
          "text": [
            "   order_id  customer_id  order_status           order_date  \\\n",
            "0         1          259             4  2016-01-01 00:00:00   \n",
            "1         2         1212             4  2016-01-01 00:00:00   \n",
            "2         3          523             4  2016-01-02 00:00:00   \n",
            "3         4          175             4  2016-01-03 00:00:00   \n",
            "4         5         1324             4  2016-01-03 00:00:00   \n",
            "\n",
            "         required_date shipped_date  store_id  staff_id  \n",
            "0  2016-01-03 00:00:00   2016-01-03         1         2  \n",
            "1  2016-01-04 00:00:00   2016-01-03         2         6  \n",
            "2  2016-01-05 00:00:00   2016-01-03         2         7  \n",
            "3  2016-01-04 00:00:00   2016-01-05         1         3  \n",
            "4  2016-01-06 00:00:00   2016-01-06         2         6  \n"
          ]
        }
      ]
    },
    {
      "cell_type": "code",
      "source": [
        "query1 = \"\"\"\n",
        "SELECT\n",
        "    o.order_id,\n",
        "    c.first_name,\n",
        "    c.last_name,\n",
        "    o.order_status,\n",
        "    o.order_date\n",
        "FROM\n",
        "    orders o\n",
        "JOIN\n",
        "    Customers c ON o.customer_id = c.customer_id\n",
        "LIMIT 5;\n",
        "\"\"\"\n",
        "\n",
        "df_customer_orders = pd.read_sql(query1, conn)\n",
        "print(\"Query 1 Results:\")\n",
        "print(df_customer_orders)"
      ],
      "metadata": {
        "colab": {
          "base_uri": "https://localhost:8080/"
        },
        "id": "MvzFMnMr_HlK",
        "outputId": "7b52ead0-e1c4-416d-9ee7-a746dbbb6a5e"
      },
      "execution_count": null,
      "outputs": [
        {
          "output_type": "stream",
          "name": "stdout",
          "text": [
            "Query 1 Results:\n",
            "   order_id first_name  last_name  order_status           order_date\n",
            "0         1  Johnathan  Velazquez             4  2016-01-01 00:00:00\n",
            "1         2  Jaqueline   Cummings             4  2016-01-01 00:00:00\n",
            "2         3     Joshua  Robertson             4  2016-01-02 00:00:00\n",
            "3         4       Nova       Hess             4  2016-01-03 00:00:00\n",
            "4         5       Arla      Ellis             4  2016-01-03 00:00:00\n"
          ]
        }
      ]
    },
    {
      "cell_type": "code",
      "source": [
        "query2 = \"\"\"\n",
        "SELECT\n",
        "    o.order_id,\n",
        "    c.email,\n",
        "    o.order_status,\n",
        "    o.order_date\n",
        "FROM\n",
        "    orders o\n",
        "JOIN\n",
        "    Customers c ON o.customer_id = c.customer_id\n",
        "LIMIT 5;\n",
        "\"\"\"\n",
        "\n",
        "df_customer_orders = pd.read_sql(query2, conn)\n",
        "print(\"Query 2 Results:\")\n",
        "print(df_customer_orders)"
      ],
      "metadata": {
        "colab": {
          "base_uri": "https://localhost:8080/"
        },
        "id": "KDc9TmrcAf2l",
        "outputId": "2e520986-fcd2-4bb3-d70e-e962f89a5e18"
      },
      "execution_count": null,
      "outputs": [
        {
          "output_type": "stream",
          "name": "stdout",
          "text": [
            "Query 2 Results:\n",
            "   order_id                            email  order_status  \\\n",
            "0         1  johnathan.velazquez@hotmail.com             4   \n",
            "1         2   jaqueline.cummings@hotmail.com             4   \n",
            "2         3       joshua.robertson@gmail.com             4   \n",
            "3         4                nova.hess@msn.com             4   \n",
            "4         5             arla.ellis@yahoo.com             4   \n",
            "\n",
            "            order_date  \n",
            "0  2016-01-01 00:00:00  \n",
            "1  2016-01-01 00:00:00  \n",
            "2  2016-01-02 00:00:00  \n",
            "3  2016-01-03 00:00:00  \n",
            "4  2016-01-03 00:00:00  \n"
          ]
        }
      ]
    },
    {
      "cell_type": "code",
      "source": [
        "query3 = \"\"\"\n",
        "SELECT\n",
        "    o.customer_id,\n",
        "    c.first_name,\n",
        "    c.last_name,\n",
        "    c.email,\n",
        "    AVG(p.list_price) as average_listing_price\n",
        "FROM\n",
        "    orders o\n",
        "JOIN\n",
        "    Customers c ON o.customer_id = c.customer_id\n",
        "JOIN\n",
        "    order_items oi ON o.order_id = oi.order_id\n",
        "JOIN\n",
        "    products p ON oi.product_id = p.product_id\n",
        "GROUP BY\n",
        "    o.customer_id, c.first_name, c.last_name\n",
        "HAVING\n",
        "    SUM(oi.quantity) > 3;\n",
        "\"\"\"\n",
        "\n",
        "df_high_value_customers = pd.read_sql(query3, conn)\n",
        "print(\"Query 3 Results:\")\n",
        "print(df_high_value_customers)"
      ],
      "metadata": {
        "colab": {
          "base_uri": "https://localhost:8080/"
        },
        "id": "b7D-rLweBk-6",
        "outputId": "ca936074-97d9-4d49-c2c0-05431cb3713e"
      },
      "execution_count": null,
      "outputs": [
        {
          "output_type": "stream",
          "name": "stdout",
          "text": [
            "Query 3 Results:\n",
            "     customer_id  first_name last_name                     email  \\\n",
            "0              1       Debra     Burks     debra.burks@yahoo.com   \n",
            "1              2       Kasha      Todd      kasha.todd@yahoo.com   \n",
            "2              3      Tameka    Fisher     tameka.fisher@aol.com   \n",
            "3              4       Daryl    Spence      daryl.spence@aol.com   \n",
            "4              5  Charolette      Rice   charolette.rice@msn.com   \n",
            "..           ...         ...       ...                       ...   \n",
            "949         1439     Florrie    Little  florrie.little@yahoo.com   \n",
            "950         1440      Ernest   Rollins  ernest.rollins@yahoo.com   \n",
            "951         1441      Jamaal  Morrison   jamaal.morrison@msn.com   \n",
            "952         1442      Cassie     Cline    cassie.cline@gmail.com   \n",
            "953         1443      Lezlie      Lamb     lezlie.lamb@gmail.com   \n",
            "\n",
            "     average_listing_price  \n",
            "0              2096.173636  \n",
            "1              1403.690000  \n",
            "2              1371.528462  \n",
            "3              1703.213333  \n",
            "4              1680.741250  \n",
            "..                     ...  \n",
            "949            1119.990000  \n",
            "950            1353.992000  \n",
            "951            2866.326667  \n",
            "952             869.192000  \n",
            "953            1883.792000  \n",
            "\n",
            "[954 rows x 5 columns]\n"
          ]
        }
      ]
    },
    {
      "cell_type": "code",
      "source": [],
      "metadata": {
        "colab": {
          "base_uri": "https://localhost:8080/"
        },
        "id": "ZrlhnDjLC83Z",
        "outputId": "71f00136-889b-4192-9656-ddfc386b723f"
      },
      "execution_count": null,
      "outputs": [
        {
          "output_type": "stream",
          "name": "stdout",
          "text": [
            "(7, 2)\n"
          ]
        }
      ]
    },
    {
      "cell_type": "code",
      "source": [
        "# a. Total sales amount per product category\n",
        "query_a = \"\"\"\n",
        "SELECT\n",
        "    p.category_id,\n",
        "    SUM(oi.quantity * p.list_price) AS total_sales_amount\n",
        "FROM\n",
        "    Products p\n",
        "JOIN\n",
        "    Order_Items oi ON p.product_id = oi.product_id\n",
        "GROUP BY\n",
        "    p.category_id;\n",
        "\"\"\"\n",
        "df_sales_amount_per_product_category = pd.read_sql(query_a, conn)\n",
        "print(\"Query a Results:\")\n",
        "print(df_sales_amount_per_product_category)"
      ],
      "metadata": {
        "colab": {
          "base_uri": "https://localhost:8080/"
        },
        "id": "Z-M6jTltF9vR",
        "outputId": "50a933d6-45c0-4706-af8e-38f1846815b7"
      },
      "execution_count": null,
      "outputs": [
        {
          "output_type": "stream",
          "name": "stdout",
          "text": [
            "Query a Results:\n",
            "   category_id  total_sales_amount\n",
            "0            1           327888.21\n",
            "1            2           438506.87\n",
            "2            3          1109151.04\n",
            "3            4           799874.60\n",
            "4            5          1020236.85\n",
            "5            6          3030775.71\n",
            "6            7          1852555.60\n"
          ]
        }
      ]
    },
    {
      "cell_type": "code",
      "source": [
        "# b. Average list price\n",
        "query_b = \"\"\"\n",
        "SELECT\n",
        "    AVG(list_price) AS average_list_price\n",
        "FROM\n",
        "    Products;\n",
        "\"\"\"\n",
        "df_average_list_price = pd.read_sql(query_b, conn)\n",
        "print(\"Query b Results:\")\n",
        "print(df_average_list_price)"
      ],
      "metadata": {
        "colab": {
          "base_uri": "https://localhost:8080/"
        },
        "id": "YzCEEEVRHM_N",
        "outputId": "f19e8e7e-112f-4192-b8d2-4fc858ab1d82"
      },
      "execution_count": null,
      "outputs": [
        {
          "output_type": "stream",
          "name": "stdout",
          "text": [
            "Query b Results:\n",
            "   average_list_price\n",
            "0         1520.591402\n"
          ]
        }
      ]
    },
    {
      "cell_type": "code",
      "source": [
        "# c. Top 10 selling products (by quantity)\n",
        "query_c = \"\"\"\n",
        "SELECT\n",
        "    p.product_name,\n",
        "    SUM(oi.quantity) AS total_quantity_sold\n",
        "FROM\n",
        "    Products p\n",
        "JOIN\n",
        "    Order_Items oi ON p.product_id = oi.product_id\n",
        "GROUP BY\n",
        "    p.product_name\n",
        "ORDER BY\n",
        "    total_quantity_sold DESC\n",
        "LIMIT 10;\n",
        "\"\"\"\n",
        "df_top_ten_selling_products = pd.read_sql(query_c, conn)\n",
        "print(\"Query c Results:\")\n",
        "print(df_top_ten_selling_products)"
      ],
      "metadata": {
        "colab": {
          "base_uri": "https://localhost:8080/"
        },
        "id": "BCpgw2hSHiy3",
        "outputId": "02bb305e-9340-45f7-f36c-db645239ce9b"
      },
      "execution_count": null,
      "outputs": [
        {
          "output_type": "stream",
          "name": "stdout",
          "text": [
            "Query c Results:\n",
            "                                    product_name  total_quantity_sold\n",
            "0             Electra Cruiser 1 (24-Inch) - 2016                  296\n",
            "1           Electra Townie Original 7D EQ - 2016                  290\n",
            "2             Electra Townie Original 21D - 2016                  289\n",
            "3  Electra Girl's Hawaii 1 (16-inch) - 2015/2016                  269\n",
            "4          Surly Ice Cream Truck Frameset - 2016                  167\n",
            "5                       Trek Slash 8 27.5 - 2016                  154\n",
            "6  Electra Girl's Hawaii 1 (20-inch) - 2015/2016                  154\n",
            "7                    Surly Straggler 650b - 2016                  151\n",
            "8         Electra Townie Original 7D - 2015/2016                  148\n",
            "9                         Surly Straggler - 2016                  147\n"
          ]
        }
      ]
    },
    {
      "cell_type": "code",
      "source": [
        "# d. Orders sold by staff\n",
        "query_d = \"\"\"\n",
        "SELECT\n",
        "    s.first_name,\n",
        "    s.last_name,\n",
        "    s.staff_id,\n",
        "    COUNT(o.order_id) AS total_orders\n",
        "FROM\n",
        "    Staffs s\n",
        "JOIN\n",
        "    Orders o ON s.staff_id = o.staff_id\n",
        "GROUP BY\n",
        "    s.staff_id, s.first_name, s.last_name\n",
        "ORDER BY\n",
        "    total_orders DESC;\n",
        "\"\"\"\n",
        "df_orders_sold_by_staff = pd.read_sql(query_d, conn)\n",
        "print(\"Query d Results:\")\n",
        "print(df_orders_sold_by_staff)"
      ],
      "metadata": {
        "colab": {
          "base_uri": "https://localhost:8080/"
        },
        "id": "buQcO7PJH3o0",
        "outputId": "cc68df94-fce0-454f-904c-0942b81aebd0"
      },
      "execution_count": null,
      "outputs": [
        {
          "output_type": "stream",
          "name": "stdout",
          "text": [
            "Query d Results:\n",
            "  first_name last_name  staff_id  total_orders\n",
            "0  Marcelene     Boyer         6           553\n",
            "1     Venita    Daniel         7           540\n",
            "2      Genna   Serrano         3           184\n",
            "3     Mireya  Copeland         2           164\n",
            "4       Kali    Vargas         8            88\n",
            "5      Layla   Terrell         9            86\n"
          ]
        }
      ]
    },
    {
      "cell_type": "code",
      "source": [
        "# e. Average shipping time by stores\n",
        "query_e = \"\"\"\n",
        "SELECT\n",
        "    s.store_name,\n",
        "    AVG(JULIANDAY(o.shipped_date) - JULIANDAY(o.order_date)) AS average_shipping_time\n",
        "FROM\n",
        "    Orders o\n",
        "JOIN\n",
        "    Stores s ON o.store_id = s.store_id\n",
        "GROUP BY\n",
        "    s.store_id, s.store_name;\n",
        "\"\"\"\n",
        "df_average_shipping_time_by_stores = pd.read_sql(query_e, conn)\n",
        "print(\"Query e Results:\")\n",
        "print(df_average_shipping_time_by_stores)"
      ],
      "metadata": {
        "colab": {
          "base_uri": "https://localhost:8080/"
        },
        "id": "FVmyFRjhJNhE",
        "outputId": "45f2e4d1-e250-4435-a9e0-129994e7cc20"
      },
      "execution_count": null,
      "outputs": [
        {
          "output_type": "stream",
          "name": "stdout",
          "text": [
            "Query e Results:\n",
            "         store_name  average_shipping_time\n",
            "0  Santa Cruz Bikes               2.045775\n",
            "1     Baldwin Bikes               1.972522\n",
            "2     Rowlett Bikes               1.922535\n"
          ]
        }
      ]
    },
    {
      "cell_type": "code",
      "source": [],
      "metadata": {
        "id": "bb6lVyWEf9z0"
      },
      "execution_count": null,
      "outputs": []
    },
    {
      "cell_type": "code",
      "source": [
        "conn.close()"
      ],
      "metadata": {
        "id": "oEwy5WjGfay4"
      },
      "execution_count": null,
      "outputs": []
    }
  ]
}